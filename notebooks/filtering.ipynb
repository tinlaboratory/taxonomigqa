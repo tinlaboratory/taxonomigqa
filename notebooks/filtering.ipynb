{
 "cells": [
  {
   "cell_type": "code",
   "execution_count": 107,
   "id": "0d033483-43c1-4a31-b9ed-9a4342ae4053",
   "metadata": {},
   "outputs": [],
   "source": [
    "import json\n",
    "from pathlib import Path\n",
    "import re\n",
    "import json\n",
    "import random"
   ]
  },
  {
   "cell_type": "code",
   "execution_count": 3,
   "id": "89a050cb-3d00-4b4b-88a2-3b3f147be99c",
   "metadata": {},
   "outputs": [],
   "source": [
    "path = Path(\"../../data/gqa/data/val_all_questions.json\")"
   ]
  },
  {
   "cell_type": "code",
   "execution_count": 108,
   "id": "916e296a-7294-42e8-83d4-5512fa7faff5",
   "metadata": {},
   "outputs": [],
   "source": [
    "with open(path) as f:\n",
    "    question = json.load(f)\n",
    "keys = list(question.keys())\n",
    "subset_size = int(0.1 * len(keys))\n",
    "subset_keys = random.sample(keys, subset_size)\n",
    "subset = {key: question[key] for key in subset_keys}"
   ]
  },
  {
   "cell_type": "code",
   "execution_count": 106,
   "id": "93ce73a0-90b3-417c-a447-bdc6af1dc607",
   "metadata": {},
   "outputs": [],
   "source": [
    "# print(subset_keys[:10])\n",
    "# for item in subset_keys[:10]:\n",
    "#     print(subset[item])\n",
    "#     print(\"\\n\")"
   ]
  },
  {
   "cell_type": "code",
   "execution_count": 109,
   "id": "c4c35692-b647-490f-8dcb-fd74636ffdfb",
   "metadata": {},
   "outputs": [
    {
     "name": "stdout",
     "output_type": "stream",
     "text": [
      "{'semantic': [{'operation': 'select', 'dependencies': [], 'argument': 'chair (-)'}, {'operation': 'exist', 'dependencies': [0], 'argument': '?'}], 'entailed': ['05526424'], 'equivalent': ['05526423', '05526424'], 'question': 'Are there any chairs in this image?', 'imageId': '2323631', 'isBalanced': False, 'groups': {'global': None, 'local': '03-chair'}, 'answer': 'no', 'semanticStr': 'select: chair (-)->exist: ? [0]', 'annotations': {'answer': {}, 'question': {}, 'fullAnswer': {}}, 'types': {'detailed': 'existC', 'semantic': 'obj', 'structural': 'verify'}, 'fullAnswer': 'No, there are no chairs.'}\n",
      "obj\n"
     ]
    }
   ],
   "source": [
    "for key, val in subset.items():\n",
    "    print(val)\n",
    "    print(val['types']['semantic'])\n",
    "    break"
   ]
  },
  {
   "cell_type": "code",
   "execution_count": 110,
   "id": "834b0e7f-f6b2-42f7-bd13-5504fe074380",
   "metadata": {},
   "outputs": [
    {
     "name": "stdout",
     "output_type": "stream",
     "text": [
      "201185\n"
     ]
    }
   ],
   "source": [
    "print(len(subset))"
   ]
  },
  {
   "cell_type": "markdown",
   "id": "9c5372a5-0880-45c2-9173-35fab61470cf",
   "metadata": {},
   "source": [
    "# first round of filtering"
   ]
  },
  {
   "cell_type": "code",
   "execution_count": 111,
   "id": "0a62ecd0-5e78-40d4-bac0-2181ad5e781b",
   "metadata": {},
   "outputs": [],
   "source": [
    "# first filter\n",
    "filtered_dic = {}\n",
    "multiple_mention_dic = {}\n",
    "half_or_no_mention_dic = {}\n",
    "global_dic = {}\n",
    "noun_not_in_q = {}\n",
    "\n",
    "pattern = r\"(\\w+)\\s*\\((\\d+(?:\\s*,\\s*\\d+)*)\\)\" # should be a correct one\n",
    "for key, val in subset.items():\n",
    "    question = val['question']\n",
    "    question_type = val['types']['semantic']\n",
    "    if question_type != 'global':\n",
    "        overall_flag = True\n",
    "        multiple_mention_flag = False\n",
    "        half_or_no_mention_flag = False\n",
    "        noun_not_in_q_flag = False\n",
    "        semantics = val.get('semantic', [])\n",
    "        for operation in semantics:\n",
    "            if operation['operation'] == 'select':\n",
    "                text = operation['argument']\n",
    "                match = re.search(pattern, text)\n",
    "                if match: \n",
    "                    noun = match.group(1)\n",
    "                    if noun not in question: \n",
    "                        overall_flag = False\n",
    "                        noun_not_in_q_flag = True\n",
    "                    else:\n",
    "                        number = match.group(2)\n",
    "                        number_list = [n.strip() for n in numbers.split(',')]\n",
    "                        if len(number_list) > 1:\n",
    "                            # as long as there is a multiple mention, add this case\n",
    "                            multiple_mention_flag = True\n",
    "                            overall_flag = False\n",
    "                else: \n",
    "                    overall_flag = False\n",
    "                    half_or_no_mention_flag = True\n",
    "        if overall_flag:\n",
    "            filtered_dic[key] = val\n",
    "        elif multiple_mention_flag:\n",
    "            multiple_mention_dic[key] = val\n",
    "        elif half_or_no_mention_flag:\n",
    "            half_or_no_mention_dic[key] = val  \n",
    "        elif noun_not_in_q_flag:\n",
    "            noun_not_in_q[key] = val\n",
    "    else:\n",
    "        global_dic[key] = val        "
   ]
  },
  {
   "cell_type": "code",
   "execution_count": 115,
   "id": "33c0ecbb-42fe-4bdf-9684-1cd576b08bf1",
   "metadata": {},
   "outputs": [
    {
     "name": "stdout",
     "output_type": "stream",
     "text": [
      "201185\n",
      "141487\n",
      "0\n",
      "51742\n",
      "3106\n",
      "4850\n"
     ]
    }
   ],
   "source": [
    "print(len(subset))\n",
    "print(len(filtered_dic))\n",
    "print(len(multiple_mention_dic))\n",
    "print(len(half_or_no_mention_dic))\n",
    "print(len(global_dic))\n",
    "print(len(noun_not_in_q))"
   ]
  },
  {
   "cell_type": "code",
   "execution_count": 113,
   "id": "17ecb77f-f41a-4054-abb9-35078c8ef13b",
   "metadata": {},
   "outputs": [
    {
     "data": {
      "text/plain": [
       "4850"
      ]
     },
     "execution_count": 113,
     "metadata": {},
     "output_type": "execute_result"
    }
   ],
   "source": [
    "final = len(subset) - (len(filtered_dic) + len(multiple_mention_dic) + len(half_or_no_mention_dic) + len(global_dic))\n",
    "final"
   ]
  },
  {
   "cell_type": "code",
   "execution_count": 79,
   "id": "20de30c3-4d64-4411-b64f-8a421bc257ba",
   "metadata": {},
   "outputs": [
    {
     "name": "stdout",
     "output_type": "stream",
     "text": [
      "05451384\n",
      "{'semantic': [{'operation': 'select', 'dependencies': [], 'argument': 'cat (1324563)'}, {'operation': 'filter color', 'dependencies': [0], 'argument': 'brown'}, {'operation': 'relate', 'dependencies': [1], 'argument': 'blanket,under,s (-)'}, {'operation': 'exist', 'dependencies': [2], 'argument': '?'}], 'entailed': ['05451386', '05451385'], 'equivalent': ['05451384'], 'question': 'Are there blankets under the brown cat?', 'imageId': '2382986', 'isBalanced': False, 'groups': {'global': None, 'local': '13-cat_blanket'}, 'answer': 'no', 'semanticStr': 'select: cat (1324563)->filter color: brown [0]->relate: blanket,under,s (-) [1]->exist: ? [2]', 'annotations': {'answer': {}, 'question': {'5:7': '1324563'}, 'fullAnswer': {'4': '1324576', '7': '1324563'}}, 'types': {'detailed': 'existRelSC', 'semantic': 'rel', 'structural': 'verify'}, 'fullAnswer': 'No, there is a towel under the cat.'}\n"
     ]
    }
   ],
   "source": [
    "for key, val in filtered_dic.items():\n",
    "    print(key)\n",
    "    print(val)\n",
    "    break"
   ]
  },
  {
   "cell_type": "code",
   "execution_count": 114,
   "id": "650c8a9a-7645-473e-8ab7-f4e71f302560",
   "metadata": {},
   "outputs": [],
   "source": [
    "# store as json file\n",
    "with open('filtered_dic.json', 'w') as f1:  # 'wb' means write in binary mode\n",
    "    json.dump(filtered_dic, f1, indent=4)\n",
    "# with open(filename, 'wb') as f2:  # 'wb' means write in binary mode\n",
    "#     pickle.dump(multiple_mention_dic, f2)\n",
    "with open('half_mention.json', 'w') as f3:  # 'wb' means write in binary mode\n",
    "    json.dump(half_or_no_mention_dic, f3, indent=4)\n",
    "with open('global_questions.json', 'w') as f4:  # 'wb' means write in binary mode\n",
    "    json.dump(global_dic, f4, indent=4)\n",
    "with open('noun_not_in_q.json', 'w') as f5:  # 'wb' means write in binary mode\n",
    "    json.dump(noun_not_in_q, f5, indent=4)  "
   ]
  },
  {
   "cell_type": "code",
   "execution_count": null,
   "id": "2f7e21d2-656c-4f92-8ec5-1da6911854bf",
   "metadata": {},
   "outputs": [],
   "source": [
    "# filter out the duplicated objects "
   ]
  },
  {
   "cell_type": "markdown",
   "id": "aaececf3-83ea-4e23-bd3d-7731b9723ab6",
   "metadata": {},
   "source": [
    "# Hypernym replacement"
   ]
  },
  {
   "cell_type": "code",
   "execution_count": 116,
   "id": "657a2b6b-837c-41eb-8864-a4743e9fc477",
   "metadata": {},
   "outputs": [
    {
     "name": "stdout",
     "output_type": "stream",
     "text": [
      "933\n"
     ]
    }
   ],
   "source": [
    "# read the hypernym file first\n",
    "with open('../data/gqa_entities/noun-hypernyms.json') as f:\n",
    "    hyper = json.load(f)\n",
    "print(len(hyper))"
   ]
  },
  {
   "cell_type": "code",
   "execution_count": null,
   "id": "2fe111d4-7c3c-4086-9121-fcc50fd806a2",
   "metadata": {},
   "outputs": [],
   "source": []
  }
 ],
 "metadata": {
  "kernelspec": {
   "display_name": "Python 3 (ipykernel)",
   "language": "python",
   "name": "python3"
  },
  "language_info": {
   "codemirror_mode": {
    "name": "ipython",
    "version": 3
   },
   "file_extension": ".py",
   "mimetype": "text/x-python",
   "name": "python",
   "nbconvert_exporter": "python",
   "pygments_lexer": "ipython3",
   "version": "3.10.5"
  }
 },
 "nbformat": 4,
 "nbformat_minor": 5
}
