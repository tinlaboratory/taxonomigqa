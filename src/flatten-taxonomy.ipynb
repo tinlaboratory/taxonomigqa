{
 "cells": [
  {
   "cell_type": "code",
   "execution_count": null,
   "metadata": {},
   "outputs": [],
   "source": [
    "import csv\n",
    "import json\n",
    "import utils\n",
    "import pathlib"
   ]
  },
  {
   "cell_type": "code",
   "execution_count": 8,
   "metadata": {},
   "outputs": [],
   "source": [
    "taxonomy = utils.read_json(\"/Users/kanishka/Downloads/arg_hypernyms.json\")"
   ]
  },
  {
   "cell_type": "code",
   "execution_count": 16,
   "metadata": {},
   "outputs": [
    {
     "data": {
      "text/plain": [
       "(491, 652)"
      ]
     },
     "execution_count": 16,
     "metadata": {},
     "output_type": "execute_result"
    }
   ],
   "source": [
    "'''\n",
    "Save two things:\n",
    "\n",
    "1) pairwise memberships\n",
    "2) unique concepts\n",
    "'''\n",
    "\n",
    "concepts = set()\n",
    "cat_mem = []\n",
    "for k, v in taxonomy.items():\n",
    "    concepts.add(k)\n",
    "    for vv in v:\n",
    "        concepts.add(vv)\n",
    "        cat_mem.append((vv, k, \"yes\"))\n",
    "\n",
    "concepts = list(concepts)\n",
    "concepts = [[c] for c in concepts]\n",
    "\n",
    "len(concepts), len(cat_mem)"
   ]
  },
  {
   "cell_type": "code",
   "execution_count": 17,
   "metadata": {},
   "outputs": [],
   "source": [
    "utils.write_csv(concepts, path=\"../data/gqa_entities/gqa-lemmas.csv\", header=[\"lemma\"])\n",
    "utils.write_csv(cat_mem, path=\"../data/gqa_entities/category-membership.csv\", header=[\"premise\", \"conclusion\", \"hypernymy\"])"
   ]
  },
  {
   "cell_type": "code",
   "execution_count": null,
   "metadata": {},
   "outputs": [],
   "source": []
  }
 ],
 "metadata": {
  "kernelspec": {
   "display_name": "base",
   "language": "python",
   "name": "python3"
  },
  "language_info": {
   "codemirror_mode": {
    "name": "ipython",
    "version": 3
   },
   "file_extension": ".py",
   "mimetype": "text/x-python",
   "name": "python",
   "nbconvert_exporter": "python",
   "pygments_lexer": "ipython3",
   "version": "3.10.10"
  }
 },
 "nbformat": 4,
 "nbformat_minor": 2
}
